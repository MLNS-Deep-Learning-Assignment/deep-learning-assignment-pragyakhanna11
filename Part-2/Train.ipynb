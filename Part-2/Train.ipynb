{
  "nbformat": 4,
  "nbformat_minor": 0,
  "metadata": {
    "colab": {
      "provenance": [],
      "gpuType": "T4"
    },
    "kernelspec": {
      "name": "python3",
      "display_name": "Python 3"
    },
    "language_info": {
      "name": "python"
    },
    "accelerator": "GPU"
  },
  "cells": [
    {
      "cell_type": "code",
      "source": [
        "import torch\n",
        "import numpy as np\n",
        "import torch.nn as nn\n",
        "from tqdm import tqdm\n",
        "import torch.optim as optim\n",
        "import matplotlib.pyplot as plt\n",
        "from scipy import ndimage\n",
        "from collections import defaultdict\n",
        "from torchvision.models import resnet18\n",
        "from torch.utils.data import DataLoader, random_split, Dataset\n",
        "import pickle"
      ],
      "metadata": {
        "id": "jzWwj3oAjKaX"
      },
      "execution_count": 25,
      "outputs": []
    },
    {
      "cell_type": "code",
      "source": [
        "def extract_digit_regions(image, max_regions=4, threshold=0.5):\n",
        "    \"\"\"Extract individual digit regions from the image\"\"\"\n",
        "    # Binarize the image\n",
        "    binary = (image > threshold).astype(np.uint8)\n",
        "\n",
        "    # Label connected components\n",
        "    labeled, num_features = ndimage.label(binary)\n",
        "\n",
        "    # Get region properties\n",
        "    regions = []\n",
        "    for label_idx in range(1, num_features + 1):\n",
        "        region_mask = labeled == label_idx\n",
        "        y, x = np.nonzero(region_mask)\n",
        "\n",
        "        if len(x) < 10:  # Skip very small regions (noise)\n",
        "            continue\n",
        "\n",
        "        x_min, x_max = np.min(x), np.max(x)\n",
        "        y_min, y_max = np.min(y), np.max(y)\n",
        "        width = x_max - x_min\n",
        "        height = y_max - y_min\n",
        "        center_x = (x_max + x_min) // 2\n",
        "\n",
        "        regions.append({\n",
        "            'x_min': x_min,\n",
        "            'x_max': x_max,\n",
        "            'y_min': y_min,\n",
        "            'y_max': y_max,\n",
        "            'width': width,\n",
        "            'height': height,\n",
        "            'center_x': center_x,\n",
        "            'area': len(x)\n",
        "        })\n",
        "\n",
        "    # Sort regions by x-coordinate\n",
        "    regions.sort(key=lambda r: r['center_x'])\n",
        "\n",
        "    # If we have more regions than expected, merge closest ones\n",
        "    while len(regions) > max_regions:\n",
        "        # Find closest pair of regions\n",
        "        min_dist = float('inf')\n",
        "        merge_idx = 0\n",
        "\n",
        "        for i in range(len(regions)-1):\n",
        "            dist = regions[i+1]['x_min'] - regions[i]['x_max']\n",
        "            if dist < min_dist:\n",
        "                min_dist = dist\n",
        "                merge_idx = i\n",
        "\n",
        "        # Merge regions\n",
        "        r1 = regions[merge_idx]\n",
        "        r2 = regions[merge_idx + 1]\n",
        "        merged = {\n",
        "            'x_min': min(r1['x_min'], r2['x_min']),\n",
        "            'x_max': max(r1['x_max'], r2['x_max']),\n",
        "            'y_min': min(r1['y_min'], r2['y_min']),\n",
        "            'y_max': max(r1['y_max'], r2['y_max']),\n",
        "            'width': max(r1['x_max'], r2['x_max']) - min(r1['x_min'], r2['x_min']),\n",
        "            'height': max(r1['y_max'], r2['y_max']) - min(r1['y_min'], r2['y_min']),\n",
        "            'center_x': (r1['center_x'] + r2['center_x']) // 2,\n",
        "            'area': r1['area'] + r2['area']\n",
        "        }\n",
        "\n",
        "        regions[merge_idx:merge_idx + 2] = [merged]\n",
        "\n",
        "    # Pad with empty regions if we have fewer than expected\n",
        "    while len(regions) < max_regions:\n",
        "        regions.append({\n",
        "            'x_min': 0,\n",
        "            'x_max': 0,\n",
        "            'y_min': 0,\n",
        "            'y_max': 0,\n",
        "            'width': 0,\n",
        "            'height': 0,\n",
        "            'center_x': 0,\n",
        "            'area': 0\n",
        "        })\n",
        "\n",
        "    return regions[:max_regions], binary\n",
        "\n",
        "def extract_digit_image(image, region, padding=2):\n",
        "    \"\"\"Extract a single digit from the image based on region coordinates\"\"\"\n",
        "    h, w = image.shape\n",
        "    x_min = max(0, region['x_min'] - padding)\n",
        "    x_max = min(w, region['x_max'] + padding)\n",
        "    y_min = max(0, region['y_min'] - padding)\n",
        "    y_max = min(h, region['y_max'] + padding)\n",
        "\n",
        "    digit = image[y_min:y_max, x_min:x_max]\n",
        "\n",
        "    # Resize to fixed size (28x28)\n",
        "    digit = ndimage.zoom(digit, (28/digit.shape[0], 28/digit.shape[1]))\n",
        "\n",
        "    return digit"
      ],
      "metadata": {
        "id": "koCkrHc2jLHR"
      },
      "execution_count": 13,
      "outputs": []
    },
    {
      "cell_type": "code",
      "source": [
        "class DigitSumDataset(Dataset):\n",
        "    \"\"\"Dataset class for digit sum data with individual digit regions\"\"\"\n",
        "    def __init__(self, images, labels):\n",
        "        self.original_images = torch.FloatTensor(images).reshape(-1, 1, 40, 168)\n",
        "        self.labels = torch.LongTensor(labels)\n",
        "\n",
        "        # Process images to get digit regions\n",
        "        self.digit_regions = []\n",
        "        self.individual_digits = []\n",
        "\n",
        "        print(\"Processing images to extract digits...\")\n",
        "        for img in tqdm(self.original_images[:, 0]):\n",
        "            regions, _ = extract_digit_regions(img.numpy())\n",
        "            self.digit_regions.append(regions)\n",
        "\n",
        "            # Extract individual digits\n",
        "            digits = []\n",
        "            for region in regions:\n",
        "                if region['area'] > 0:\n",
        "                    digit = extract_digit_image(img.numpy(), region)\n",
        "                    digits.append(digit)\n",
        "                else:\n",
        "                    digits.append(np.zeros((28, 28)))\n",
        "\n",
        "            self.individual_digits.append(digits)\n",
        "\n",
        "        # Convert to tensors\n",
        "        self.individual_digits = torch.FloatTensor(self.individual_digits)\n",
        "        # Normalize and repeat to 3 channels for ResNet\n",
        "        self.individual_digits = self.individual_digits.unsqueeze(2).repeat(1, 1, 3, 1, 1)\n",
        "        self.individual_digits = (self.individual_digits - self.individual_digits.mean()) / self.individual_digits.std()\n",
        "\n",
        "    def __len__(self):\n",
        "        return len(self.labels)\n",
        "\n",
        "    def __getitem__(self, idx):\n",
        "        return {\n",
        "            'digits': self.individual_digits[idx],\n",
        "            'label': self.labels[idx],\n",
        "            'regions': self.digit_regions[idx]\n",
        "        }\n",
        "\n",
        "class DigitRecognitionModel(nn.Module):\n",
        "    def __init__(self, num_classes=10):\n",
        "        super().__init__()\n",
        "        self.digit_cnn = resnet18(weights='DEFAULT')\n",
        "\n",
        "        # Modify first conv layer to accept single channel\n",
        "        self.digit_cnn.conv1 = nn.Conv2d(3, 64, kernel_size=7, stride=2, padding=3, bias=False)\n",
        "\n",
        "        # Modify final layer\n",
        "        in_features = self.digit_cnn.fc.in_features\n",
        "        self.digit_cnn.fc = nn.Linear(in_features, num_classes)\n",
        "\n",
        "        # Sum prediction layer\n",
        "        self.sum_predictor = nn.Sequential(\n",
        "            nn.Linear(40, 128),\n",
        "            nn.ReLU(),\n",
        "            nn.Dropout(0.2),\n",
        "            nn.Linear(128, 37)  # 0 to 36 inclusive\n",
        "        )\n",
        "\n",
        "    def forward(self, x):\n",
        "        # x shape: (batch_size, num_digits, channels, height, width)\n",
        "        batch_size, num_digits = x.shape[:2]\n",
        "\n",
        "        # Process each digit\n",
        "        digit_features = []\n",
        "        for i in range(num_digits):\n",
        "            digit_out = self.digit_cnn(x[:, i])  # Shape: (batch_size, num_classes)\n",
        "            digit_features.append(digit_out)\n",
        "\n",
        "        # Concatenate digit predictions\n",
        "        digit_preds = torch.stack(digit_features, dim=1)  # Shape: (batch_size, num_digits, num_classes)\n",
        "\n",
        "        # Predict sum\n",
        "        sum_pred = self.sum_predictor(digit_preds.view(batch_size, -1))\n",
        "\n",
        "        return sum_pred"
      ],
      "metadata": {
        "id": "XHNtLOQhjWnT"
      },
      "execution_count": 14,
      "outputs": []
    },
    {
      "cell_type": "code",
      "source": [
        "def train_model(train_loader, val_loader, model, criterion, optimizer, device, num_epochs=100):\n",
        "    \"\"\"Train the model with progress bars and GPU support\"\"\"\n",
        "    history = defaultdict(list)\n",
        "    best_val_acc = 0\n",
        "\n",
        "    for epoch in range(num_epochs):\n",
        "        # Training phase\n",
        "        model.train()\n",
        "        train_loss = 0\n",
        "        train_correct = 0\n",
        "        train_total = 0\n",
        "\n",
        "        train_bar = tqdm(train_loader, desc=f'Epoch {epoch+1}/{num_epochs} [Train]')\n",
        "        for batch in train_bar:\n",
        "            digits = batch['digits'].to(device)\n",
        "            labels = batch['label'].to(device)\n",
        "\n",
        "            optimizer.zero_grad()\n",
        "            outputs = model(digits)\n",
        "            loss = criterion(outputs, labels)\n",
        "\n",
        "            loss.backward()\n",
        "            optimizer.step()\n",
        "\n",
        "            train_loss += loss.item()\n",
        "            _, predicted = outputs.max(1)\n",
        "            train_total += labels.size(0)\n",
        "            train_correct += predicted.eq(labels).sum().item()\n",
        "\n",
        "            train_bar.set_postfix({\n",
        "                'loss': f'{train_loss/train_total:.3f}',\n",
        "                'acc': f'{100.*train_correct/train_total:.2f}%'\n",
        "            })\n",
        "\n",
        "        # Validation phase\n",
        "        model.eval()\n",
        "        val_loss = 0\n",
        "        val_correct = 0\n",
        "        val_total = 0\n",
        "\n",
        "        with torch.no_grad():\n",
        "            val_bar = tqdm(val_loader, desc=f'Epoch {epoch+1}/{num_epochs} [Val]')\n",
        "            for batch in val_bar:\n",
        "                digits = batch['digits'].to(device)\n",
        "                labels = batch['label'].to(device)\n",
        "\n",
        "                outputs = model(digits)\n",
        "                loss = criterion(outputs, labels)\n",
        "\n",
        "                val_loss += loss.item()\n",
        "                _, predicted = outputs.max(1)\n",
        "                val_total += labels.size(0)\n",
        "                val_correct += predicted.eq(labels).sum().item()\n",
        "\n",
        "                val_bar.set_postfix({\n",
        "                    'loss': f'{val_loss/val_total:.3f}',\n",
        "                    'acc': f'{100.*val_correct/val_total:.2f}%'\n",
        "                })\n",
        "\n",
        "        # Save metrics\n",
        "        train_acc = 100. * train_correct / train_total\n",
        "        val_acc = 100. * val_correct / val_total\n",
        "\n",
        "        history['train_loss'].append(train_loss / train_total)\n",
        "        history['train_acc'].append(train_acc)\n",
        "        history['val_loss'].append(val_loss / val_total)\n",
        "        history['val_acc'].append(val_acc)\n",
        "\n",
        "        # Save best model\n",
        "        if val_acc > best_val_acc:\n",
        "            best_val_acc = val_acc\n",
        "            torch.save(model.state_dict(), 'best_digit_recognition_model.pt')\n",
        "            print(f'New best model saved with validation accuracy: {val_acc:.2f}%')\n",
        "\n",
        "    return history"
      ],
      "metadata": {
        "id": "eemTEF8MjZaK"
      },
      "execution_count": 15,
      "outputs": []
    },
    {
      "cell_type": "code",
      "source": [
        "# Set random seed for reproducibility\n",
        "torch.manual_seed(42)\n",
        "\n",
        "# Set device\n",
        "device = torch.device('cuda' if torch.cuda.is_available() else 'cpu')\n",
        "print(f'Using device: {device}')\n",
        "\n",
        "# Load and preprocess data\n",
        "data_path = './'\n",
        "train_data = np.concatenate([\n",
        "    np.load(data_path + f'data{i}.npy') for i in range(3)\n",
        "])\n",
        "lab_data = np.concatenate([\n",
        "    np.load(data_path + f'lab{i}.npy') for i in range(3)\n",
        "])\n",
        "\n",
        "# Create dataset\n",
        "dataset = DigitSumDataset(train_data, lab_data)\n",
        "\n",
        "# Split dataset\n",
        "total_size = len(dataset)\n",
        "train_size = int(0.75 * total_size)\n",
        "val_size = int(0.15 * total_size)\n",
        "test_size = total_size - train_size - val_size\n",
        "\n",
        "train_dataset, val_dataset, test_dataset = random_split(\n",
        "    dataset, [train_size, val_size, test_size]\n",
        ")\n",
        "\n",
        "# Create data loaders\n",
        "train_loader = DataLoader(train_dataset, batch_size=128, shuffle=True)\n",
        "val_loader = DataLoader(val_dataset, batch_size=32, shuffle=False)\n",
        "test_loader = DataLoader(test_dataset, batch_size=32, shuffle=False)\n",
        "\n",
        "# Initialize model\n",
        "model = DigitRecognitionModel().to(device)\n",
        "\n",
        "# Define loss function and optimizer\n",
        "criterion = nn.CrossEntropyLoss()\n",
        "optimizer = optim.AdamW(model.parameters(), lr=1e-3, weight_decay=1e-4)\n",
        "\n",
        "# Train model\n",
        "history = train_model(\n",
        "    train_loader,\n",
        "    val_loader,\n",
        "    model,\n",
        "    criterion,\n",
        "    optimizer,\n",
        "    device,\n",
        "    num_epochs=100\n",
        ")\n",
        "\n",
        "# Plot training history\n",
        "plt.figure(figsize=(12, 4))\n",
        "plt.subplot(1, 2, 1)\n",
        "plt.plot(history['train_loss'], label='Train Loss')\n",
        "plt.plot(history['val_loss'], label='Val Loss')\n",
        "plt.title('Loss over epochs')\n",
        "plt.xlabel('Epoch')\n",
        "plt.ylabel('Loss')\n",
        "plt.legend()\n",
        "\n",
        "plt.subplot(1, 2, 2)\n",
        "plt.plot(history['train_acc'], label='Train Acc')\n",
        "plt.plot(history['val_acc'], label='Val Acc')\n",
        "plt.title('Accuracy over epochs')\n",
        "plt.xlabel('Epoch')\n",
        "plt.ylabel('Accuracy (%)')\n",
        "plt.legend()\n",
        "\n",
        "plt.tight_layout()\n",
        "plt.savefig('training_history.png')\n"
      ],
      "metadata": {
        "colab": {
          "base_uri": "https://localhost:8080/",
          "height": 1000
        },
        "id": "CEyDEXT2Vyer",
        "outputId": "48382468-8b26-4c47-a9d9-c128aaecda90"
      },
      "execution_count": 7,
      "outputs": [
        {
          "output_type": "stream",
          "name": "stdout",
          "text": [
            "Using device: cuda\n",
            "Processing images to extract digits...\n"
          ]
        },
        {
          "output_type": "stream",
          "name": "stderr",
          "text": [
            "100%|██████████| 30000/30000 [00:29<00:00, 1000.20it/s]\n",
            "Epoch 1/100 [Train]: 100%|██████████| 176/176 [00:21<00:00,  8.05it/s, loss=0.023, acc=9.56%]\n",
            "Epoch 1/100 [Val]: 100%|██████████| 141/141 [00:03<00:00, 45.72it/s, loss=0.077, acc=15.00%]\n"
          ]
        },
        {
          "output_type": "stream",
          "name": "stdout",
          "text": [
            "New best model saved with validation accuracy: 15.00%\n"
          ]
        },
        {
          "output_type": "stream",
          "name": "stderr",
          "text": [
            "Epoch 2/100 [Train]: 100%|██████████| 176/176 [00:22<00:00,  7.86it/s, loss=0.018, acc=19.60%]\n",
            "Epoch 2/100 [Val]: 100%|██████████| 141/141 [00:02<00:00, 48.98it/s, loss=0.065, acc=29.58%]\n"
          ]
        },
        {
          "output_type": "stream",
          "name": "stdout",
          "text": [
            "New best model saved with validation accuracy: 29.58%\n"
          ]
        },
        {
          "output_type": "stream",
          "name": "stderr",
          "text": [
            "Epoch 3/100 [Train]: 100%|██████████| 176/176 [00:22<00:00,  7.94it/s, loss=0.016, acc=26.87%]\n",
            "Epoch 3/100 [Val]: 100%|██████████| 141/141 [00:02<00:00, 48.93it/s, loss=0.057, acc=33.29%]\n"
          ]
        },
        {
          "output_type": "stream",
          "name": "stdout",
          "text": [
            "New best model saved with validation accuracy: 33.29%\n"
          ]
        },
        {
          "output_type": "stream",
          "name": "stderr",
          "text": [
            "Epoch 4/100 [Train]: 100%|██████████| 176/176 [00:21<00:00,  8.06it/s, loss=0.014, acc=30.62%]\n",
            "Epoch 4/100 [Val]: 100%|██████████| 141/141 [00:02<00:00, 48.78it/s, loss=0.051, acc=39.36%]\n"
          ]
        },
        {
          "output_type": "stream",
          "name": "stdout",
          "text": [
            "New best model saved with validation accuracy: 39.36%\n"
          ]
        },
        {
          "output_type": "stream",
          "name": "stderr",
          "text": [
            "Epoch 5/100 [Train]: 100%|██████████| 176/176 [00:22<00:00,  7.95it/s, loss=0.013, acc=37.47%]\n",
            "Epoch 5/100 [Val]: 100%|██████████| 141/141 [00:02<00:00, 49.36it/s, loss=0.048, acc=47.22%]\n"
          ]
        },
        {
          "output_type": "stream",
          "name": "stdout",
          "text": [
            "New best model saved with validation accuracy: 47.22%\n"
          ]
        },
        {
          "output_type": "stream",
          "name": "stderr",
          "text": [
            "Epoch 6/100 [Train]: 100%|██████████| 176/176 [00:22<00:00,  7.99it/s, loss=0.012, acc=42.25%]\n",
            "Epoch 6/100 [Val]: 100%|██████████| 141/141 [00:02<00:00, 47.60it/s, loss=0.048, acc=40.29%]\n",
            "Epoch 7/100 [Train]: 100%|██████████| 176/176 [00:22<00:00,  7.97it/s, loss=0.012, acc=42.59%]\n",
            "Epoch 7/100 [Val]: 100%|██████████| 141/141 [00:03<00:00, 46.96it/s, loss=0.044, acc=56.64%]\n"
          ]
        },
        {
          "output_type": "stream",
          "name": "stdout",
          "text": [
            "New best model saved with validation accuracy: 56.64%\n"
          ]
        },
        {
          "output_type": "stream",
          "name": "stderr",
          "text": [
            "Epoch 8/100 [Train]: 100%|██████████| 176/176 [00:22<00:00,  7.98it/s, loss=0.011, acc=48.15%]\n",
            "Epoch 8/100 [Val]: 100%|██████████| 141/141 [00:03<00:00, 46.38it/s, loss=0.046, acc=53.38%]\n",
            "Epoch 9/100 [Train]: 100%|██████████| 176/176 [00:22<00:00,  7.96it/s, loss=0.010, acc=54.36%]\n",
            "Epoch 9/100 [Val]: 100%|██████████| 141/141 [00:02<00:00, 47.23it/s, loss=0.035, acc=65.56%]\n"
          ]
        },
        {
          "output_type": "stream",
          "name": "stdout",
          "text": [
            "New best model saved with validation accuracy: 65.56%\n"
          ]
        },
        {
          "output_type": "stream",
          "name": "stderr",
          "text": [
            "Epoch 10/100 [Train]: 100%|██████████| 176/176 [00:21<00:00,  8.01it/s, loss=0.009, acc=58.68%]\n",
            "Epoch 10/100 [Val]: 100%|██████████| 141/141 [00:03<00:00, 46.38it/s, loss=0.037, acc=69.11%]\n"
          ]
        },
        {
          "output_type": "stream",
          "name": "stdout",
          "text": [
            "New best model saved with validation accuracy: 69.11%\n"
          ]
        },
        {
          "output_type": "stream",
          "name": "stderr",
          "text": [
            "Epoch 11/100 [Train]: 100%|██████████| 176/176 [00:21<00:00,  8.03it/s, loss=0.008, acc=61.64%]\n",
            "Epoch 11/100 [Val]: 100%|██████████| 141/141 [00:03<00:00, 46.44it/s, loss=0.035, acc=61.04%]\n",
            "Epoch 12/100 [Train]: 100%|██████████| 176/176 [00:22<00:00,  7.99it/s, loss=0.008, acc=64.29%]\n",
            "Epoch 12/100 [Val]: 100%|██████████| 141/141 [00:03<00:00, 45.83it/s, loss=0.032, acc=69.93%]\n"
          ]
        },
        {
          "output_type": "stream",
          "name": "stdout",
          "text": [
            "New best model saved with validation accuracy: 69.93%\n"
          ]
        },
        {
          "output_type": "stream",
          "name": "stderr",
          "text": [
            "Epoch 13/100 [Train]: 100%|██████████| 176/176 [00:21<00:00,  8.02it/s, loss=0.007, acc=66.99%]\n",
            "Epoch 13/100 [Val]: 100%|██████████| 141/141 [00:03<00:00, 46.03it/s, loss=0.030, acc=72.09%]\n"
          ]
        },
        {
          "output_type": "stream",
          "name": "stdout",
          "text": [
            "New best model saved with validation accuracy: 72.09%\n"
          ]
        },
        {
          "output_type": "stream",
          "name": "stderr",
          "text": [
            "Epoch 14/100 [Train]: 100%|██████████| 176/176 [00:21<00:00,  8.01it/s, loss=0.007, acc=68.79%]\n",
            "Epoch 14/100 [Val]: 100%|██████████| 141/141 [00:03<00:00, 46.76it/s, loss=0.027, acc=78.40%]\n"
          ]
        },
        {
          "output_type": "stream",
          "name": "stdout",
          "text": [
            "New best model saved with validation accuracy: 78.40%\n"
          ]
        },
        {
          "output_type": "stream",
          "name": "stderr",
          "text": [
            "Epoch 15/100 [Train]: 100%|██████████| 176/176 [00:21<00:00,  8.01it/s, loss=0.007, acc=70.02%]\n",
            "Epoch 15/100 [Val]: 100%|██████████| 141/141 [00:03<00:00, 46.97it/s, loss=0.029, acc=74.49%]\n",
            "Epoch 16/100 [Train]: 100%|██████████| 176/176 [00:22<00:00,  8.00it/s, loss=0.006, acc=72.05%]\n",
            "Epoch 16/100 [Val]: 100%|██████████| 141/141 [00:02<00:00, 47.17it/s, loss=0.026, acc=79.80%]\n"
          ]
        },
        {
          "output_type": "stream",
          "name": "stdout",
          "text": [
            "New best model saved with validation accuracy: 79.80%\n"
          ]
        },
        {
          "output_type": "stream",
          "name": "stderr",
          "text": [
            "Epoch 17/100 [Train]: 100%|██████████| 176/176 [00:22<00:00,  7.99it/s, loss=0.006, acc=74.46%]\n",
            "Epoch 17/100 [Val]: 100%|██████████| 141/141 [00:02<00:00, 47.80it/s, loss=0.031, acc=72.49%]\n",
            "Epoch 18/100 [Train]: 100%|██████████| 176/176 [00:22<00:00,  7.99it/s, loss=0.005, acc=75.74%]\n",
            "Epoch 18/100 [Val]: 100%|██████████| 141/141 [00:02<00:00, 48.57it/s, loss=0.028, acc=78.02%]\n",
            "Epoch 19/100 [Train]: 100%|██████████| 176/176 [00:22<00:00,  7.99it/s, loss=0.005, acc=76.75%]\n",
            "Epoch 19/100 [Val]: 100%|██████████| 141/141 [00:02<00:00, 50.93it/s, loss=0.025, acc=82.82%]\n"
          ]
        },
        {
          "output_type": "stream",
          "name": "stdout",
          "text": [
            "New best model saved with validation accuracy: 82.82%\n"
          ]
        },
        {
          "output_type": "stream",
          "name": "stderr",
          "text": [
            "Epoch 20/100 [Train]: 100%|██████████| 176/176 [00:22<00:00,  7.98it/s, loss=0.005, acc=78.23%]\n",
            "Epoch 20/100 [Val]: 100%|██████████| 141/141 [00:02<00:00, 52.15it/s, loss=0.026, acc=81.02%]\n",
            "Epoch 21/100 [Train]: 100%|██████████| 176/176 [00:22<00:00,  7.96it/s, loss=0.005, acc=79.30%]\n",
            "Epoch 21/100 [Val]: 100%|██████████| 141/141 [00:02<00:00, 53.19it/s, loss=0.028, acc=81.38%]\n",
            "Epoch 22/100 [Train]: 100%|██████████| 176/176 [00:22<00:00,  7.99it/s, loss=0.004, acc=79.60%]\n",
            "Epoch 22/100 [Val]: 100%|██████████| 141/141 [00:02<00:00, 53.60it/s, loss=0.032, acc=79.58%]\n",
            "Epoch 23/100 [Train]: 100%|██████████| 176/176 [00:22<00:00,  7.96it/s, loss=0.005, acc=77.62%]\n",
            "Epoch 23/100 [Val]: 100%|██████████| 141/141 [00:02<00:00, 54.35it/s, loss=0.026, acc=81.13%]\n",
            "Epoch 24/100 [Train]: 100%|██████████| 176/176 [00:22<00:00,  7.88it/s, loss=0.006, acc=74.96%]\n",
            "Epoch 24/100 [Val]: 100%|██████████| 141/141 [00:02<00:00, 50.82it/s, loss=0.027, acc=78.82%]\n",
            "Epoch 25/100 [Train]: 100%|██████████| 176/176 [00:22<00:00,  7.90it/s, loss=0.004, acc=79.93%]\n",
            "Epoch 25/100 [Val]: 100%|██████████| 141/141 [00:02<00:00, 51.05it/s, loss=0.028, acc=79.62%]\n",
            "Epoch 26/100 [Train]: 100%|██████████| 176/176 [00:22<00:00,  7.92it/s, loss=0.004, acc=81.34%]\n",
            "Epoch 26/100 [Val]: 100%|██████████| 141/141 [00:02<00:00, 53.63it/s, loss=0.026, acc=85.24%]\n"
          ]
        },
        {
          "output_type": "stream",
          "name": "stdout",
          "text": [
            "New best model saved with validation accuracy: 85.24%\n"
          ]
        },
        {
          "output_type": "stream",
          "name": "stderr",
          "text": [
            "Epoch 27/100 [Train]: 100%|██████████| 176/176 [00:22<00:00,  7.95it/s, loss=0.004, acc=83.01%]\n",
            "Epoch 27/100 [Val]: 100%|██████████| 141/141 [00:02<00:00, 55.31it/s, loss=0.023, acc=83.58%]\n",
            "Epoch 28/100 [Train]: 100%|██████████| 176/176 [00:22<00:00,  7.91it/s, loss=0.004, acc=81.85%]\n",
            "Epoch 28/100 [Val]: 100%|██████████| 141/141 [00:02<00:00, 57.21it/s, loss=0.023, acc=85.44%]\n"
          ]
        },
        {
          "output_type": "stream",
          "name": "stdout",
          "text": [
            "New best model saved with validation accuracy: 85.44%\n"
          ]
        },
        {
          "output_type": "stream",
          "name": "stderr",
          "text": [
            "Epoch 29/100 [Train]: 100%|██████████| 176/176 [00:22<00:00,  7.91it/s, loss=0.004, acc=83.58%]\n",
            "Epoch 29/100 [Val]: 100%|██████████| 141/141 [00:02<00:00, 56.62it/s, loss=0.028, acc=83.71%]\n",
            "Epoch 30/100 [Train]: 100%|██████████| 176/176 [00:22<00:00,  7.88it/s, loss=0.004, acc=83.21%]\n",
            "Epoch 30/100 [Val]: 100%|██████████| 141/141 [00:02<00:00, 55.58it/s, loss=0.022, acc=83.53%]\n",
            "Epoch 31/100 [Train]: 100%|██████████| 176/176 [00:22<00:00,  7.89it/s, loss=0.004, acc=82.49%]\n",
            "Epoch 31/100 [Val]: 100%|██████████| 141/141 [00:02<00:00, 54.48it/s, loss=0.025, acc=82.73%]\n",
            "Epoch 32/100 [Train]: 100%|██████████| 176/176 [00:22<00:00,  7.84it/s, loss=0.003, acc=85.07%]\n",
            "Epoch 32/100 [Val]: 100%|██████████| 141/141 [00:02<00:00, 54.27it/s, loss=0.027, acc=85.49%]\n"
          ]
        },
        {
          "output_type": "stream",
          "name": "stdout",
          "text": [
            "New best model saved with validation accuracy: 85.49%\n"
          ]
        },
        {
          "output_type": "stream",
          "name": "stderr",
          "text": [
            "Epoch 33/100 [Train]: 100%|██████████| 176/176 [00:22<00:00,  7.90it/s, loss=0.003, acc=85.45%]\n",
            "Epoch 33/100 [Val]: 100%|██████████| 141/141 [00:02<00:00, 58.53it/s, loss=0.023, acc=83.53%]\n",
            "Epoch 34/100 [Train]: 100%|██████████| 176/176 [00:22<00:00,  7.87it/s, loss=0.003, acc=85.28%]\n",
            "Epoch 34/100 [Val]: 100%|██████████| 141/141 [00:02<00:00, 55.72it/s, loss=0.024, acc=87.29%]\n"
          ]
        },
        {
          "output_type": "stream",
          "name": "stdout",
          "text": [
            "New best model saved with validation accuracy: 87.29%\n"
          ]
        },
        {
          "output_type": "stream",
          "name": "stderr",
          "text": [
            "Epoch 35/100 [Train]: 100%|██████████| 176/176 [00:22<00:00,  7.91it/s, loss=0.003, acc=85.45%]\n",
            "Epoch 35/100 [Val]: 100%|██████████| 141/141 [00:02<00:00, 54.90it/s, loss=0.026, acc=85.11%]\n",
            "Epoch 36/100 [Train]: 100%|██████████| 176/176 [00:22<00:00,  7.89it/s, loss=0.003, acc=85.49%]\n",
            "Epoch 36/100 [Val]: 100%|██████████| 141/141 [00:02<00:00, 57.78it/s, loss=0.025, acc=87.09%]\n",
            "Epoch 37/100 [Train]: 100%|██████████| 176/176 [00:22<00:00,  7.94it/s, loss=0.003, acc=86.56%]\n",
            "Epoch 37/100 [Val]: 100%|██████████| 141/141 [00:02<00:00, 58.04it/s, loss=0.023, acc=87.67%]\n"
          ]
        },
        {
          "output_type": "stream",
          "name": "stdout",
          "text": [
            "New best model saved with validation accuracy: 87.67%\n"
          ]
        },
        {
          "output_type": "stream",
          "name": "stderr",
          "text": [
            "Epoch 38/100 [Train]: 100%|██████████| 176/176 [00:22<00:00,  7.92it/s, loss=0.004, acc=83.28%]\n",
            "Epoch 38/100 [Val]: 100%|██████████| 141/141 [00:02<00:00, 57.70it/s, loss=0.024, acc=78.60%]\n",
            "Epoch 39/100 [Train]: 100%|██████████| 176/176 [00:22<00:00,  7.93it/s, loss=0.004, acc=83.60%]\n",
            "Epoch 39/100 [Val]: 100%|██████████| 141/141 [00:02<00:00, 56.92it/s, loss=0.023, acc=85.96%]\n",
            "Epoch 40/100 [Train]: 100%|██████████| 176/176 [00:22<00:00,  7.93it/s, loss=0.003, acc=86.76%]\n",
            "Epoch 40/100 [Val]: 100%|██████████| 141/141 [00:02<00:00, 54.35it/s, loss=0.024, acc=83.76%]\n",
            "Epoch 41/100 [Train]: 100%|██████████| 176/176 [00:22<00:00,  7.93it/s, loss=0.003, acc=86.87%]\n",
            "Epoch 41/100 [Val]: 100%|██████████| 141/141 [00:02<00:00, 58.01it/s, loss=0.022, acc=87.22%]\n",
            "Epoch 42/100 [Train]: 100%|██████████| 176/176 [00:22<00:00,  7.93it/s, loss=0.003, acc=88.74%]\n",
            "Epoch 42/100 [Val]: 100%|██████████| 141/141 [00:02<00:00, 56.85it/s, loss=0.025, acc=86.09%]\n",
            "Epoch 43/100 [Train]: 100%|██████████| 176/176 [00:22<00:00,  7.95it/s, loss=0.002, acc=88.68%]\n",
            "Epoch 43/100 [Val]: 100%|██████████| 141/141 [00:02<00:00, 59.57it/s, loss=0.026, acc=87.82%]\n"
          ]
        },
        {
          "output_type": "stream",
          "name": "stdout",
          "text": [
            "New best model saved with validation accuracy: 87.82%\n"
          ]
        },
        {
          "output_type": "stream",
          "name": "stderr",
          "text": [
            "Epoch 44/100 [Train]: 100%|██████████| 176/176 [00:22<00:00,  7.94it/s, loss=0.003, acc=86.30%]\n",
            "Epoch 44/100 [Val]: 100%|██████████| 141/141 [00:02<00:00, 58.00it/s, loss=0.023, acc=87.11%]\n",
            "Epoch 45/100 [Train]: 100%|██████████| 176/176 [00:22<00:00,  7.92it/s, loss=0.003, acc=87.97%]\n",
            "Epoch 45/100 [Val]: 100%|██████████| 141/141 [00:02<00:00, 56.16it/s, loss=0.037, acc=82.67%]\n",
            "Epoch 46/100 [Train]: 100%|██████████| 176/176 [00:22<00:00,  7.95it/s, loss=0.003, acc=86.41%]\n",
            "Epoch 46/100 [Val]: 100%|██████████| 141/141 [00:02<00:00, 58.42it/s, loss=0.026, acc=83.11%]\n",
            "Epoch 47/100 [Train]: 100%|██████████| 176/176 [00:22<00:00,  7.97it/s, loss=0.003, acc=85.48%]\n",
            "Epoch 47/100 [Val]: 100%|██████████| 141/141 [00:02<00:00, 58.06it/s, loss=0.034, acc=83.27%]\n",
            "Epoch 48/100 [Train]: 100%|██████████| 176/176 [00:22<00:00,  7.98it/s, loss=0.003, acc=85.77%]\n",
            "Epoch 48/100 [Val]: 100%|██████████| 141/141 [00:02<00:00, 58.55it/s, loss=0.021, acc=86.64%]\n",
            "Epoch 49/100 [Train]: 100%|██████████| 176/176 [00:22<00:00,  7.93it/s, loss=0.002, acc=89.47%]\n",
            "Epoch 49/100 [Val]: 100%|██████████| 141/141 [00:02<00:00, 58.14it/s, loss=0.027, acc=88.18%]\n"
          ]
        },
        {
          "output_type": "stream",
          "name": "stdout",
          "text": [
            "New best model saved with validation accuracy: 88.18%\n"
          ]
        },
        {
          "output_type": "stream",
          "name": "stderr",
          "text": [
            "Epoch 50/100 [Train]: 100%|██████████| 176/176 [00:22<00:00,  7.96it/s, loss=0.002, acc=90.44%]\n",
            "Epoch 50/100 [Val]: 100%|██████████| 141/141 [00:02<00:00, 57.23it/s, loss=0.028, acc=89.24%]\n"
          ]
        },
        {
          "output_type": "stream",
          "name": "stdout",
          "text": [
            "New best model saved with validation accuracy: 89.24%\n"
          ]
        },
        {
          "output_type": "stream",
          "name": "stderr",
          "text": [
            "Epoch 51/100 [Train]: 100%|██████████| 176/176 [00:22<00:00,  7.95it/s, loss=0.003, acc=88.16%]\n",
            "Epoch 51/100 [Val]: 100%|██████████| 141/141 [00:02<00:00, 59.07it/s, loss=0.022, acc=87.13%]\n",
            "Epoch 52/100 [Train]: 100%|██████████| 176/176 [00:22<00:00,  7.97it/s, loss=0.003, acc=88.00%]\n",
            "Epoch 52/100 [Val]: 100%|██████████| 141/141 [00:02<00:00, 58.19it/s, loss=0.026, acc=85.40%]\n",
            "Epoch 53/100 [Train]: 100%|██████████| 176/176 [00:22<00:00,  7.94it/s, loss=0.002, acc=89.72%]\n",
            "Epoch 53/100 [Val]: 100%|██████████| 141/141 [00:02<00:00, 58.29it/s, loss=0.026, acc=88.87%]\n",
            "Epoch 54/100 [Train]: 100%|██████████| 176/176 [00:22<00:00,  7.97it/s, loss=0.002, acc=89.70%]\n",
            "Epoch 54/100 [Val]: 100%|██████████| 141/141 [00:02<00:00, 58.20it/s, loss=0.030, acc=90.24%]\n"
          ]
        },
        {
          "output_type": "stream",
          "name": "stdout",
          "text": [
            "New best model saved with validation accuracy: 90.24%\n"
          ]
        },
        {
          "output_type": "stream",
          "name": "stderr",
          "text": [
            "Epoch 55/100 [Train]: 100%|██████████| 176/176 [00:22<00:00,  7.97it/s, loss=0.002, acc=91.49%]\n",
            "Epoch 55/100 [Val]: 100%|██████████| 141/141 [00:02<00:00, 57.10it/s, loss=0.024, acc=89.82%]\n",
            "Epoch 56/100 [Train]: 100%|██████████| 176/176 [00:22<00:00,  7.96it/s, loss=0.002, acc=90.46%]\n",
            "Epoch 56/100 [Val]: 100%|██████████| 141/141 [00:02<00:00, 58.48it/s, loss=0.026, acc=89.96%]\n",
            "Epoch 57/100 [Train]: 100%|██████████| 176/176 [00:22<00:00,  7.94it/s, loss=0.002, acc=90.18%]\n",
            "Epoch 57/100 [Val]: 100%|██████████| 141/141 [00:02<00:00, 57.32it/s, loss=0.027, acc=89.84%]\n",
            "Epoch 58/100 [Train]: 100%|██████████| 176/176 [00:22<00:00,  7.93it/s, loss=0.003, acc=88.92%]\n",
            "Epoch 58/100 [Val]: 100%|██████████| 141/141 [00:02<00:00, 57.96it/s, loss=0.025, acc=88.00%]\n",
            "Epoch 59/100 [Train]: 100%|██████████| 176/176 [00:22<00:00,  7.94it/s, loss=0.002, acc=90.43%]\n",
            "Epoch 59/100 [Val]: 100%|██████████| 141/141 [00:02<00:00, 57.43it/s, loss=0.029, acc=86.49%]\n",
            "Epoch 60/100 [Train]: 100%|██████████| 176/176 [00:22<00:00,  7.96it/s, loss=0.003, acc=85.87%]\n",
            "Epoch 60/100 [Val]: 100%|██████████| 141/141 [00:02<00:00, 56.40it/s, loss=0.025, acc=88.76%]\n",
            "Epoch 61/100 [Train]: 100%|██████████| 176/176 [00:22<00:00,  7.92it/s, loss=0.004, acc=86.10%]\n",
            "Epoch 61/100 [Val]: 100%|██████████| 141/141 [00:02<00:00, 56.75it/s, loss=0.022, acc=85.84%]\n",
            "Epoch 62/100 [Train]: 100%|██████████| 176/176 [00:22<00:00,  7.96it/s, loss=0.003, acc=88.97%]\n",
            "Epoch 62/100 [Val]: 100%|██████████| 141/141 [00:02<00:00, 54.78it/s, loss=0.024, acc=88.58%]\n",
            "Epoch 63/100 [Train]: 100%|██████████| 176/176 [00:22<00:00,  7.97it/s, loss=0.002, acc=89.98%]\n",
            "Epoch 63/100 [Val]: 100%|██████████| 141/141 [00:02<00:00, 51.08it/s, loss=0.027, acc=86.91%]\n",
            "Epoch 64/100 [Train]: 100%|██████████| 176/176 [00:22<00:00,  7.97it/s, loss=0.003, acc=88.98%]\n",
            "Epoch 64/100 [Val]: 100%|██████████| 141/141 [00:02<00:00, 51.26it/s, loss=0.026, acc=85.16%]\n",
            "Epoch 65/100 [Train]: 100%|██████████| 176/176 [00:22<00:00,  7.97it/s, loss=0.002, acc=90.00%]\n",
            "Epoch 65/100 [Val]: 100%|██████████| 141/141 [00:02<00:00, 50.73it/s, loss=0.027, acc=90.02%]\n",
            "Epoch 66/100 [Train]: 100%|██████████| 176/176 [00:22<00:00,  7.98it/s, loss=0.002, acc=91.28%]\n",
            "Epoch 66/100 [Val]: 100%|██████████| 141/141 [00:02<00:00, 50.36it/s, loss=0.026, acc=90.29%]\n"
          ]
        },
        {
          "output_type": "stream",
          "name": "stdout",
          "text": [
            "New best model saved with validation accuracy: 90.29%\n"
          ]
        },
        {
          "output_type": "stream",
          "name": "stderr",
          "text": [
            "Epoch 67/100 [Train]: 100%|██████████| 176/176 [00:22<00:00,  8.00it/s, loss=0.002, acc=90.16%]\n",
            "Epoch 67/100 [Val]: 100%|██████████| 141/141 [00:02<00:00, 50.34it/s, loss=0.030, acc=89.76%]\n",
            "Epoch 68/100 [Train]: 100%|██████████| 176/176 [00:22<00:00,  7.95it/s, loss=0.002, acc=91.41%]\n",
            "Epoch 68/100 [Val]: 100%|██████████| 141/141 [00:02<00:00, 49.89it/s, loss=0.031, acc=90.51%]\n"
          ]
        },
        {
          "output_type": "stream",
          "name": "stdout",
          "text": [
            "New best model saved with validation accuracy: 90.51%\n"
          ]
        },
        {
          "output_type": "stream",
          "name": "stderr",
          "text": [
            "Epoch 69/100 [Train]: 100%|██████████| 176/176 [00:22<00:00,  7.96it/s, loss=0.002, acc=92.25%]\n",
            "Epoch 69/100 [Val]: 100%|██████████| 141/141 [00:02<00:00, 49.07it/s, loss=0.029, acc=90.38%]\n",
            "Epoch 70/100 [Train]: 100%|██████████| 176/176 [00:22<00:00,  7.97it/s, loss=0.002, acc=91.76%]\n",
            "Epoch 70/100 [Val]: 100%|██████████| 141/141 [00:02<00:00, 48.87it/s, loss=0.031, acc=90.31%]\n",
            "Epoch 71/100 [Train]: 100%|██████████| 176/176 [00:22<00:00,  7.95it/s, loss=0.002, acc=91.12%]\n",
            "Epoch 71/100 [Val]: 100%|██████████| 141/141 [00:02<00:00, 48.57it/s, loss=0.032, acc=89.76%]\n",
            "Epoch 72/100 [Train]: 100%|██████████| 176/176 [00:22<00:00,  7.91it/s, loss=0.003, acc=88.60%]\n",
            "Epoch 72/100 [Val]: 100%|██████████| 141/141 [00:02<00:00, 48.53it/s, loss=0.024, acc=85.18%]\n",
            "Epoch 73/100 [Train]: 100%|██████████| 176/176 [00:22<00:00,  7.90it/s, loss=0.003, acc=86.45%]\n",
            "Epoch 73/100 [Val]: 100%|██████████| 141/141 [00:02<00:00, 50.07it/s, loss=0.028, acc=86.20%]\n",
            "Epoch 74/100 [Train]: 100%|██████████| 176/176 [00:22<00:00,  7.88it/s, loss=0.003, acc=87.52%]\n",
            "Epoch 74/100 [Val]: 100%|██████████| 141/141 [00:02<00:00, 47.36it/s, loss=0.026, acc=88.22%]\n",
            "Epoch 75/100 [Train]: 100%|██████████| 176/176 [00:22<00:00,  7.90it/s, loss=0.003, acc=87.89%]\n",
            "Epoch 75/100 [Val]: 100%|██████████| 141/141 [00:02<00:00, 50.97it/s, loss=0.027, acc=83.27%]\n",
            "Epoch 76/100 [Train]: 100%|██████████| 176/176 [00:22<00:00,  7.93it/s, loss=0.002, acc=88.93%]\n",
            "Epoch 76/100 [Val]: 100%|██████████| 141/141 [00:02<00:00, 50.49it/s, loss=0.025, acc=89.13%]\n",
            "Epoch 77/100 [Train]: 100%|██████████| 176/176 [00:22<00:00,  7.91it/s, loss=0.002, acc=90.66%]\n",
            "Epoch 77/100 [Val]: 100%|██████████| 141/141 [00:02<00:00, 51.15it/s, loss=0.029, acc=90.47%]\n",
            "Epoch 78/100 [Train]: 100%|██████████| 176/176 [00:22<00:00,  7.90it/s, loss=0.002, acc=92.32%]\n",
            "Epoch 78/100 [Val]: 100%|██████████| 141/141 [00:02<00:00, 49.70it/s, loss=0.037, acc=90.84%]\n"
          ]
        },
        {
          "output_type": "stream",
          "name": "stdout",
          "text": [
            "New best model saved with validation accuracy: 90.84%\n"
          ]
        },
        {
          "output_type": "stream",
          "name": "stderr",
          "text": [
            "Epoch 79/100 [Train]: 100%|██████████| 176/176 [00:22<00:00,  7.88it/s, loss=0.002, acc=92.62%]\n",
            "Epoch 79/100 [Val]: 100%|██████████| 141/141 [00:02<00:00, 50.53it/s, loss=0.036, acc=90.82%]\n",
            "Epoch 80/100 [Train]: 100%|██████████| 176/176 [00:22<00:00,  7.80it/s, loss=0.002, acc=93.12%]\n",
            "Epoch 80/100 [Val]: 100%|██████████| 141/141 [00:02<00:00, 52.26it/s, loss=0.035, acc=91.40%]\n"
          ]
        },
        {
          "output_type": "stream",
          "name": "stdout",
          "text": [
            "New best model saved with validation accuracy: 91.40%\n"
          ]
        },
        {
          "output_type": "stream",
          "name": "stderr",
          "text": [
            "Epoch 81/100 [Train]: 100%|██████████| 176/176 [00:22<00:00,  7.83it/s, loss=0.002, acc=92.68%]\n",
            "Epoch 81/100 [Val]: 100%|██████████| 141/141 [00:02<00:00, 55.25it/s, loss=0.034, acc=90.31%]\n",
            "Epoch 82/100 [Train]: 100%|██████████| 176/176 [00:22<00:00,  7.86it/s, loss=0.002, acc=93.41%]\n",
            "Epoch 82/100 [Val]: 100%|██████████| 141/141 [00:02<00:00, 54.41it/s, loss=0.038, acc=91.93%]\n"
          ]
        },
        {
          "output_type": "stream",
          "name": "stdout",
          "text": [
            "New best model saved with validation accuracy: 91.93%\n"
          ]
        },
        {
          "output_type": "stream",
          "name": "stderr",
          "text": [
            "Epoch 83/100 [Train]: 100%|██████████| 176/176 [00:22<00:00,  7.85it/s, loss=0.002, acc=92.36%]\n",
            "Epoch 83/100 [Val]: 100%|██████████| 141/141 [00:02<00:00, 56.67it/s, loss=0.043, acc=90.33%]\n",
            "Epoch 84/100 [Train]: 100%|██████████| 176/176 [00:22<00:00,  7.86it/s, loss=0.002, acc=91.38%]\n",
            "Epoch 84/100 [Val]: 100%|██████████| 141/141 [00:02<00:00, 56.18it/s, loss=0.041, acc=89.78%]\n",
            "Epoch 85/100 [Train]: 100%|██████████| 176/176 [00:22<00:00,  7.88it/s, loss=0.002, acc=91.98%]\n",
            "Epoch 85/100 [Val]: 100%|██████████| 141/141 [00:02<00:00, 55.48it/s, loss=0.032, acc=88.13%]\n",
            "Epoch 86/100 [Train]: 100%|██████████| 176/176 [00:22<00:00,  7.83it/s, loss=0.002, acc=91.63%]\n",
            "Epoch 86/100 [Val]: 100%|██████████| 141/141 [00:02<00:00, 55.65it/s, loss=0.036, acc=90.89%]\n",
            "Epoch 87/100 [Train]: 100%|██████████| 176/176 [00:22<00:00,  7.84it/s, loss=0.002, acc=92.03%]\n",
            "Epoch 87/100 [Val]: 100%|██████████| 141/141 [00:02<00:00, 55.58it/s, loss=0.036, acc=90.36%]\n",
            "Epoch 88/100 [Train]: 100%|██████████| 176/176 [00:22<00:00,  7.85it/s, loss=0.004, acc=86.88%]\n",
            "Epoch 88/100 [Val]: 100%|██████████| 141/141 [00:02<00:00, 55.76it/s, loss=0.027, acc=83.36%]\n",
            "Epoch 89/100 [Train]: 100%|██████████| 176/176 [00:22<00:00,  7.80it/s, loss=0.003, acc=89.59%]\n",
            "Epoch 89/100 [Val]: 100%|██████████| 141/141 [00:02<00:00, 55.66it/s, loss=0.030, acc=90.71%]\n",
            "Epoch 90/100 [Train]: 100%|██████████| 176/176 [00:22<00:00,  7.83it/s, loss=0.002, acc=90.84%]\n",
            "Epoch 90/100 [Val]: 100%|██████████| 141/141 [00:02<00:00, 55.57it/s, loss=0.031, acc=91.00%]\n",
            "Epoch 91/100 [Train]: 100%|██████████| 176/176 [00:22<00:00,  7.84it/s, loss=0.002, acc=93.21%]\n",
            "Epoch 91/100 [Val]: 100%|██████████| 141/141 [00:02<00:00, 55.21it/s, loss=0.035, acc=90.98%]\n",
            "Epoch 92/100 [Train]: 100%|██████████| 176/176 [00:22<00:00,  7.83it/s, loss=0.002, acc=93.40%]\n",
            "Epoch 92/100 [Val]: 100%|██████████| 141/141 [00:02<00:00, 56.06it/s, loss=0.039, acc=92.22%]\n"
          ]
        },
        {
          "output_type": "stream",
          "name": "stdout",
          "text": [
            "New best model saved with validation accuracy: 92.22%\n"
          ]
        },
        {
          "output_type": "stream",
          "name": "stderr",
          "text": [
            "Epoch 93/100 [Train]: 100%|██████████| 176/176 [00:22<00:00,  7.84it/s, loss=0.001, acc=94.15%]\n",
            "Epoch 93/100 [Val]: 100%|██████████| 141/141 [00:02<00:00, 56.50it/s, loss=0.041, acc=92.00%]\n",
            "Epoch 94/100 [Train]: 100%|██████████| 176/176 [00:22<00:00,  7.86it/s, loss=0.002, acc=93.43%]\n",
            "Epoch 94/100 [Val]: 100%|██████████| 141/141 [00:02<00:00, 55.35it/s, loss=0.036, acc=92.02%]\n",
            "Epoch 95/100 [Train]: 100%|██████████| 176/176 [00:22<00:00,  7.83it/s, loss=0.001, acc=93.40%]\n",
            "Epoch 95/100 [Val]: 100%|██████████| 141/141 [00:02<00:00, 55.09it/s, loss=0.043, acc=90.36%]\n",
            "Epoch 96/100 [Train]: 100%|██████████| 176/176 [00:22<00:00,  7.83it/s, loss=0.003, acc=89.44%]\n",
            "Epoch 96/100 [Val]: 100%|██████████| 141/141 [00:02<00:00, 54.85it/s, loss=0.028, acc=88.76%]\n",
            "Epoch 97/100 [Train]: 100%|██████████| 176/176 [00:22<00:00,  7.83it/s, loss=0.003, acc=88.67%]\n",
            "Epoch 97/100 [Val]: 100%|██████████| 141/141 [00:02<00:00, 56.27it/s, loss=0.031, acc=87.96%]\n",
            "Epoch 98/100 [Train]: 100%|██████████| 176/176 [00:22<00:00,  7.85it/s, loss=0.002, acc=92.31%]\n",
            "Epoch 98/100 [Val]: 100%|██████████| 141/141 [00:02<00:00, 55.26it/s, loss=0.030, acc=91.71%]\n",
            "Epoch 99/100 [Train]: 100%|██████████| 176/176 [00:22<00:00,  7.85it/s, loss=0.002, acc=93.40%]\n",
            "Epoch 99/100 [Val]: 100%|██████████| 141/141 [00:02<00:00, 55.58it/s, loss=0.029, acc=90.13%]\n",
            "Epoch 100/100 [Train]: 100%|██████████| 176/176 [00:22<00:00,  7.83it/s, loss=0.002, acc=93.07%]\n",
            "Epoch 100/100 [Val]: 100%|██████████| 141/141 [00:02<00:00, 56.48it/s, loss=0.038, acc=91.69%]\n"
          ]
        },
        {
          "output_type": "display_data",
          "data": {
            "text/plain": [
              "<Figure size 1200x400 with 2 Axes>"
            ],
            "image/png": "[encoded data removed]"
          },
          "metadata": {}
        }
      ]
    },
    {
      "cell_type": "code",
      "source": [
        "with open('testset.pkl', 'wb') as f:\n",
        "    pickle.dump(test_dataset, f)\n",
        "with open('valset.pkl', 'wb') as f:\n",
        "    pickle.dump(val_dataset, f)"
      ],
      "metadata": {
        "id": "QB3rW5IitRLO"
      },
      "execution_count": 26,
      "outputs": []
    },
    {
      "cell_type": "code",
      "source": [],
      "metadata": {
        "id": "tURdjYGAnZDM"
      },
      "execution_count": null,
      "outputs": []
    }
  ]
}