{
  "nbformat": 4,
  "nbformat_minor": 0,
  "metadata": {
    "colab": {
      "provenance": [],
      "gpuType": "T4"
    },
    "kernelspec": {
      "name": "python3",
      "display_name": "Python 3"
    },
    "language_info": {
      "name": "python"
    },
    "accelerator": "GPU"
  },
  "cells": [
    {
      "cell_type": "code",
      "execution_count": 1,
      "metadata": {
        "id": "fX--bR1lOMdo"
      },
      "outputs": [],
      "source": [
        "import numpy as np\n",
        "import tensorflow as tf\n",
        "from sklearn.metrics import classification_report, accuracy_score"
      ]
    },
    {
      "cell_type": "code",
      "source": [
        "model = tf.keras.models.load_model(\"cnn_model.h5\")\n",
        "print(\"Model loaded from 'cnn_model.h5'\")\n",
        "\n",
        "X_test = np.load(\"X_test.npy\")\n",
        "y_test = np.load(\"y_test.npy\")\n",
        "print(f\"Test data loaded: X_test shape = {X_test.shape}, y_test shape = {y_test.shape}\")"
      ],
      "metadata": {
        "colab": {
          "base_uri": "https://localhost:8080/"
        },
        "id": "n683MNYVOYhH",
        "outputId": "e30d1054-4502-408a-bf53-cc94f7c6fcda"
      },
      "execution_count": 2,
      "outputs": [
        {
          "output_type": "stream",
          "name": "stderr",
          "text": [
            "WARNING:absl:Compiled the loaded model, but the compiled metrics have yet to be built. `model.compile_metrics` will be empty until you train or evaluate the model.\n"
          ]
        },
        {
          "output_type": "stream",
          "name": "stdout",
          "text": [
            "Model loaded from 'cnn_model.h5'\n",
            "Test data loaded: X_test shape = (6000, 40, 168, 1), y_test shape = (6000, 37)\n"
          ]
        }
      ]
    },
    {
      "cell_type": "code",
      "source": [
        "print(\"Evaluating model on test set...\")\n",
        "test_loss, test_accuracy = model.evaluate(X_test, y_test, verbose=0)\n",
        "print(f\"Test Loss: {test_loss:.4f}\")\n",
        "print(f\"Test Accuracy: {test_accuracy * 100:.2f}%\")"
      ],
      "metadata": {
        "colab": {
          "base_uri": "https://localhost:8080/"
        },
        "id": "D6vqOiRAOevm",
        "outputId": "8fa5d254-9165-47b3-c5fd-3f489ddbb036"
      },
      "execution_count": 3,
      "outputs": [
        {
          "output_type": "stream",
          "name": "stdout",
          "text": [
            "Evaluating model on test set...\n",
            "Test Loss: 3.7296\n",
            "Test Accuracy: 14.25%\n"
          ]
        }
      ]
    },
    {
      "cell_type": "code",
      "source": [
        "y_pred = model.predict(X_test)\n",
        "y_pred_classes = np.argmax(y_pred, axis=1)\n",
        "y_test_classes = np.argmax(y_test, axis=1)\n",
        "\n",
        "print(\"\\nClassification Report:\")\n",
        "print(classification_report(y_test_classes, y_pred_classes))\n",
        "\n",
        "accuracy = accuracy_score(y_test_classes, y_pred_classes)\n",
        "print(f\"Calculated Test Accuracy: {accuracy * 100:.2f}%\")"
      ],
      "metadata": {
        "colab": {
          "base_uri": "https://localhost:8080/"
        },
        "id": "o67E89loOhNm",
        "outputId": "79243145-9a88-40a2-fbcb-887b4ad08e96"
      },
      "execution_count": 4,
      "outputs": [
        {
          "output_type": "stream",
          "name": "stdout",
          "text": [
            "\u001b[1m188/188\u001b[0m \u001b[32m━━━━━━━━━━━━━━━━━━━━\u001b[0m\u001b[37m\u001b[0m \u001b[1m2s\u001b[0m 7ms/step\n",
            "\n",
            "Classification Report:\n",
            "              precision    recall  f1-score   support\n",
            "\n",
            "           0       0.00      0.00      0.00         1\n",
            "           1       0.00      0.00      0.00         1\n",
            "           2       0.00      0.00      0.00         8\n",
            "           3       0.33      0.07      0.11        15\n",
            "           4       0.06      0.04      0.05        28\n",
            "           5       0.21      0.29      0.25        24\n",
            "           6       0.09      0.05      0.07        59\n",
            "           7       0.15      0.11      0.13        81\n",
            "           8       0.17      0.15      0.16       110\n",
            "           9       0.13      0.11      0.12       132\n",
            "          10       0.14      0.14      0.14       174\n",
            "          11       0.13      0.12      0.13       203\n",
            "          12       0.16      0.24      0.19       272\n",
            "          13       0.13      0.16      0.15       308\n",
            "          14       0.11      0.10      0.11       326\n",
            "          15       0.14      0.14      0.14       381\n",
            "          16       0.13      0.18      0.15       389\n",
            "          17       0.13      0.10      0.11       420\n",
            "          18       0.14      0.19      0.16       355\n",
            "          19       0.12      0.14      0.13       361\n",
            "          20       0.17      0.22      0.19       398\n",
            "          21       0.15      0.09      0.11       374\n",
            "          22       0.14      0.16      0.15       330\n",
            "          23       0.16      0.14      0.15       273\n",
            "          24       0.19      0.17      0.18       246\n",
            "          25       0.11      0.11      0.11       190\n",
            "          26       0.17      0.11      0.13       159\n",
            "          27       0.20      0.14      0.17       127\n",
            "          28       0.12      0.06      0.08        84\n",
            "          29       0.10      0.05      0.07        62\n",
            "          30       0.11      0.02      0.04        48\n",
            "          31       0.00      0.00      0.00        31\n",
            "          32       0.00      0.00      0.00        17\n",
            "          33       0.00      0.00      0.00         8\n",
            "          34       0.00      0.00      0.00         3\n",
            "          35       0.00      0.00      0.00         1\n",
            "          36       0.00      0.00      0.00         1\n",
            "\n",
            "    accuracy                           0.14      6000\n",
            "   macro avg       0.11      0.10      0.10      6000\n",
            "weighted avg       0.14      0.14      0.14      6000\n",
            "\n",
            "Calculated Test Accuracy: 14.25%\n"
          ]
        },
        {
          "output_type": "stream",
          "name": "stderr",
          "text": [
            "/usr/local/lib/python3.10/dist-packages/sklearn/metrics/_classification.py:1565: UndefinedMetricWarning: Precision is ill-defined and being set to 0.0 in labels with no predicted samples. Use `zero_division` parameter to control this behavior.\n",
            "  _warn_prf(average, modifier, f\"{metric.capitalize()} is\", len(result))\n",
            "/usr/local/lib/python3.10/dist-packages/sklearn/metrics/_classification.py:1565: UndefinedMetricWarning: Precision is ill-defined and being set to 0.0 in labels with no predicted samples. Use `zero_division` parameter to control this behavior.\n",
            "  _warn_prf(average, modifier, f\"{metric.capitalize()} is\", len(result))\n",
            "/usr/local/lib/python3.10/dist-packages/sklearn/metrics/_classification.py:1565: UndefinedMetricWarning: Precision is ill-defined and being set to 0.0 in labels with no predicted samples. Use `zero_division` parameter to control this behavior.\n",
            "  _warn_prf(average, modifier, f\"{metric.capitalize()} is\", len(result))\n"
          ]
        }
      ]
    }
  ]
}