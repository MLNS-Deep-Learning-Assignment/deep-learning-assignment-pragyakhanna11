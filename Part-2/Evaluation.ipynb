{
  "nbformat": 4,
  "nbformat_minor": 0,
  "metadata": {
    "colab": {
      "provenance": [],
      "gpuType": "T4"
    },
    "kernelspec": {
      "name": "python3",
      "display_name": "Python 3"
    },
    "language_info": {
      "name": "python"
    },
    "accelerator": "GPU"
  },
  "cells": [
    {
      "cell_type": "code",
      "source": [
        "import torch\n",
        "import numpy as np\n",
        "from tqdm import tqdm\n",
        "import torch.nn as nn\n",
        "from torchvision.models import resnet18\n",
        "from torch.utils.data import DataLoader\n",
        "import pickle"
      ],
      "metadata": {
        "id": "jzWwj3oAjKaX"
      },
      "execution_count": 38,
      "outputs": []
    },
    {
      "cell_type": "code",
      "source": [
        "class DigitRecognitionModel(nn.Module):\n",
        "    def __init__(self, num_classes=10):\n",
        "        super().__init__()\n",
        "        self.digit_cnn = resnet18(weights='DEFAULT')\n",
        "        self.digit_cnn.conv1 = nn.Conv2d(3, 64, kernel_size=7, stride=2, padding=3, bias=False)\n",
        "        in_features = self.digit_cnn.fc.in_features\n",
        "        self.digit_cnn.fc = nn.Linear(in_features, num_classes)\n",
        "        self.sum_predictor = nn.Sequential(\n",
        "            nn.Linear(40, 128),\n",
        "            nn.ReLU(),\n",
        "            nn.Dropout(0.2),\n",
        "            nn.Linear(128, 37)\n",
        "        )\n",
        "\n",
        "    def forward(self, x):\n",
        "        batch_size, num_digits = x.shape[:2]\n",
        "        digit_features = []\n",
        "        for i in range(num_digits):\n",
        "            digit_out = self.digit_cnn(x[:, i])\n",
        "            digit_features.append(digit_out)\n",
        "        digit_preds = torch.stack(digit_features, dim=1)\n",
        "        sum_pred = self.sum_predictor(digit_preds.view(batch_size, -1))\n",
        "        return sum_pred"
      ],
      "metadata": {
        "id": "tURdjYGAnZDM"
      },
      "execution_count": 39,
      "outputs": []
    },
    {
      "cell_type": "code",
      "source": [
        "def evaluate_model(model, data_loader, criterion, device):\n",
        "    \"\"\"Evaluate model on given dataset\"\"\"\n",
        "    model.eval()\n",
        "    total_loss = 0\n",
        "    correct = 0\n",
        "    total = 0\n",
        "\n",
        "    predictions = []\n",
        "    true_labels = []\n",
        "\n",
        "    with torch.no_grad():\n",
        "        for batch in tqdm(data_loader, desc='Evaluating'):\n",
        "            digits = batch['digits'].to(device)\n",
        "            labels = batch['label'].to(device)\n",
        "\n",
        "            outputs = model(digits)\n",
        "            loss = criterion(outputs, labels)\n",
        "\n",
        "            total_loss += loss.item()\n",
        "            _, predicted = outputs.max(1)\n",
        "            total += labels.size(0)\n",
        "            correct += predicted.eq(labels).sum().item()\n",
        "\n",
        "            predictions.extend(predicted.cpu().numpy())\n",
        "            true_labels.extend(labels.cpu().numpy())\n",
        "\n",
        "    accuracy = 100. * correct / total\n",
        "    avg_loss = total_loss / len(data_loader)\n",
        "\n",
        "    return {\n",
        "        'accuracy': accuracy,\n",
        "        'loss': avg_loss,\n",
        "        'predictions': np.array(predictions),\n",
        "        'true_labels': np.array(true_labels)\n",
        "    }"
      ],
      "metadata": {
        "id": "hy6WTbJ-unVD"
      },
      "execution_count": 40,
      "outputs": []
    },
    {
      "cell_type": "code",
      "source": [
        "device = torch.device('cuda' if torch.cuda.is_available() else 'cpu')\n",
        "print(f'Using device: {device}')"
      ],
      "metadata": {
        "colab": {
          "base_uri": "https://localhost:8080/"
        },
        "id": "q8EGSq9Luo4F",
        "outputId": "ebedcead-23dd-41c8-bfc7-68ebb29b4a16"
      },
      "execution_count": 30,
      "outputs": [
        {
          "output_type": "stream",
          "name": "stdout",
          "text": [
            "Using device: cuda\n"
          ]
        }
      ]
    },
    {
      "cell_type": "code",
      "source": [
        "print(\"Loading model...\")\n",
        "model = DigitRecognitionModel().to(device)\n",
        "model.load_state_dict(torch.load('best_digit_recognition_model.pt'))"
      ],
      "metadata": {
        "colab": {
          "base_uri": "https://localhost:8080/"
        },
        "id": "jUAuUbV7uqAN",
        "outputId": "5b87013b-0841-4828-fa29-3cd7fb04d364"
      },
      "execution_count": 31,
      "outputs": [
        {
          "output_type": "stream",
          "name": "stdout",
          "text": [
            "Loading model...\n"
          ]
        },
        {
          "output_type": "stream",
          "name": "stderr",
          "text": [
            "<ipython-input-31-2085fd3c2483>:3: FutureWarning: You are using `torch.load` with `weights_only=False` (the current default value), which uses the default pickle module implicitly. It is possible to construct malicious pickle data which will execute arbitrary code during unpickling (See https://github.com/pytorch/pytorch/blob/main/SECURITY.md#untrusted-models for more details). In a future release, the default value for `weights_only` will be flipped to `True`. This limits the functions that could be executed during unpickling. Arbitrary objects will no longer be allowed to be loaded via this mode unless they are explicitly allowlisted by the user via `torch.serialization.add_safe_globals`. We recommend you start setting `weights_only=True` for any use case where you don't have full control of the loaded file. Please open an issue on GitHub for any issues related to this experimental feature.\n",
            "  model.load_state_dict(torch.load('best_digit_recognition_model.pt'))\n"
          ]
        },
        {
          "output_type": "execute_result",
          "data": {
            "text/plain": [
              "<All keys matched successfully>"
            ]
          },
          "metadata": {},
          "execution_count": 31
        }
      ]
    },
    {
      "cell_type": "code",
      "source": [
        "def load_dataset(filename):\n",
        "    \"\"\"Load dataset from disk\"\"\"\n",
        "    with open(filename, 'rb') as f:\n",
        "        return pickle.load(f)"
      ],
      "metadata": {
        "id": "56olWPaou-qH"
      },
      "execution_count": 35,
      "outputs": []
    },
    {
      "cell_type": "code",
      "source": [
        "val = load_dataset('valset.pkl')\n",
        "test = load_dataset('testset.pkl')"
      ],
      "metadata": {
        "id": "w5Fb8MwVvAr7"
      },
      "execution_count": 36,
      "outputs": []
    },
    {
      "cell_type": "code",
      "source": [
        "# Create data loaders\n",
        "val_loader = DataLoader(val, batch_size=32, shuffle=False)\n",
        "test_loader = DataLoader(test, batch_size=32, shuffle=False)"
      ],
      "metadata": {
        "id": "f9glTrVuuuPc"
      },
      "execution_count": 41,
      "outputs": []
    },
    {
      "cell_type": "code",
      "source": [
        "# Define loss function\n",
        "criterion = nn.CrossEntropyLoss()\n",
        "\n",
        "# Evaluate on validation set\n",
        "print(\"\\nEvaluating on validation set...\")\n",
        "val_results = evaluate_model(model, val_loader, criterion, device)\n",
        "print(f\"Validation Accuracy: {val_results['accuracy']:.2f}%\")\n",
        "print(f\"Validation Loss: {val_results['loss']:.4f}\")\n",
        "\n",
        "# Evaluate on test set\n",
        "print(\"\\nEvaluating on test set...\")\n",
        "test_results = evaluate_model(model, test_loader, criterion, device)\n",
        "print(f\"Test Accuracy: {test_results['accuracy']:.2f}%\")\n",
        "print(f\"Test Loss: {test_results['loss']:.4f}\")\n",
        "\n",
        "# Save results\n",
        "np.savez('evaluation_results.npz',\n",
        "         val_predictions=val_results['predictions'],\n",
        "         val_true_labels=val_results['true_labels'],\n",
        "         test_predictions=test_results['predictions'],\n",
        "         test_true_labels=test_results['true_labels'])"
      ],
      "metadata": {
        "colab": {
          "base_uri": "https://localhost:8080/"
        },
        "id": "I9wuZoOjuz46",
        "outputId": "c70bec2f-444e-422e-b436-e28894be162a"
      },
      "execution_count": 42,
      "outputs": [
        {
          "output_type": "stream",
          "name": "stdout",
          "text": [
            "\n",
            "Evaluating on validation set...\n"
          ]
        },
        {
          "output_type": "stream",
          "name": "stderr",
          "text": [
            "Evaluating: 100%|██████████| 141/141 [00:02<00:00, 61.53it/s]\n"
          ]
        },
        {
          "output_type": "stream",
          "name": "stdout",
          "text": [
            "Validation Accuracy: 95.82%\n",
            "Validation Loss: 0.5575\n",
            "\n",
            "Evaluating on test set...\n"
          ]
        },
        {
          "output_type": "stream",
          "name": "stderr",
          "text": [
            "Evaluating: 100%|██████████| 94/94 [00:01<00:00, 69.36it/s]"
          ]
        },
        {
          "output_type": "stream",
          "name": "stdout",
          "text": [
            "Test Accuracy: 96.63%\n",
            "Test Loss: 0.3418\n"
          ]
        },
        {
          "output_type": "stream",
          "name": "stderr",
          "text": [
            "\n"
          ]
        }
      ]
    }
  ]
}